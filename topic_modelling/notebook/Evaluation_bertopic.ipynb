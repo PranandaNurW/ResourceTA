{
 "cells": [
  {
   "attachments": {},
   "cell_type": "markdown",
   "metadata": {},
   "source": [
    "#### BERTopic"
   ]
  },
  {
   "cell_type": "code",
   "execution_count": 2,
   "metadata": {},
   "outputs": [
    {
     "name": "stderr",
     "output_type": "stream",
     "text": [
      "Batches: 100%|██████████| 17/17 [00:02<00:00,  6.03it/s]\n",
      "2023-01-05 17:50:31,797 - BERTopic - Reduced dimensionality with UMAP\n",
      "2023-01-05 17:50:31,843 - BERTopic - Clustered UMAP embeddings with HDBSCAN\n"
     ]
    }
   ],
   "source": [
    "from bertopic._bertopic import BERTopic\n",
    "\n",
    "from bertopic import BERTopic\n",
    "from sklearn.datasets import fetch_20newsgroups\n",
    "from octis.dataset.dataset import Dataset\n",
    "from sentence_transformers import SentenceTransformer\n",
    "import pandas as pd\n",
    "\n",
    "# docs = fetch_20newsgroups(subset='all',  remove=('headers', 'footers', 'quotes'))['data']\n",
    "dataset_path = \"Teddit\"\n",
    "dataset = Dataset()\n",
    "dataset.load_custom_dataset_from_folder(dataset_path)\n",
    "# dataset = Dataset()\n",
    "# dataset.fetch_dataset(\"BBC_News\")\n",
    "\n",
    "data = dataset.get_corpus()\n",
    "data = [\" \".join(words) for words in data]\n",
    "\n",
    "sentence_model = SentenceTransformer(\"all-MiniLM-L6-v2\")\n",
    "embeddings = sentence_model.encode(data, show_progress_bar=True)\n",
    "\n",
    "topic_model = BERTopic()\n",
    "topics, probs = topic_model.fit_transform(data, embeddings)"
   ]
  },
  {
   "cell_type": "code",
   "execution_count": 5,
   "metadata": {},
   "outputs": [
    {
     "name": "stderr",
     "output_type": "stream",
     "text": [
      "2023-01-05 16:03:13,435 - BERTopic - Reduced dimensionality with UMAP\n",
      "2023-01-05 16:03:13,484 - BERTopic - Clustered UMAP embeddings with HDBSCAN\n"
     ]
    },
    {
     "name": "stdout",
     "output_type": "stream",
     "text": [
      "Results\n",
      "============\n",
      "npmi: -0.22713787981648417\n",
      "diversity: 0.7266666666666667\n",
      " \n"
     ]
    },
    {
     "name": "stderr",
     "output_type": "stream",
     "text": [
      "2023-01-05 16:03:16,166 - BERTopic - Reduced dimensionality with UMAP\n",
      "2023-01-05 16:03:16,211 - BERTopic - Clustered UMAP embeddings with HDBSCAN\n"
     ]
    },
    {
     "name": "stdout",
     "output_type": "stream",
     "text": [
      "Results\n",
      "============\n",
      "npmi: -0.19673960133494453\n",
      "diversity: 0.7\n",
      " \n"
     ]
    },
    {
     "name": "stderr",
     "output_type": "stream",
     "text": [
      "2023-01-05 16:03:18,962 - BERTopic - Reduced dimensionality with UMAP\n",
      "2023-01-05 16:03:19,025 - BERTopic - Clustered UMAP embeddings with HDBSCAN\n"
     ]
    },
    {
     "name": "stdout",
     "output_type": "stream",
     "text": [
      "Results\n",
      "============\n",
      "npmi: -0.1872375805517451\n",
      "diversity: 0.7066666666666667\n",
      " \n"
     ]
    },
    {
     "name": "stderr",
     "output_type": "stream",
     "text": [
      "2023-01-05 16:03:22,074 - BERTopic - Reduced dimensionality with UMAP\n",
      "2023-01-05 16:03:22,119 - BERTopic - Clustered UMAP embeddings with HDBSCAN\n"
     ]
    },
    {
     "name": "stdout",
     "output_type": "stream",
     "text": [
      "Results\n",
      "============\n",
      "npmi: -0.22980373213308108\n",
      "diversity: 0.72\n",
      " \n"
     ]
    },
    {
     "name": "stderr",
     "output_type": "stream",
     "text": [
      "2023-01-05 16:03:24,718 - BERTopic - Reduced dimensionality with UMAP\n",
      "2023-01-05 16:03:24,766 - BERTopic - Clustered UMAP embeddings with HDBSCAN\n"
     ]
    },
    {
     "name": "stdout",
     "output_type": "stream",
     "text": [
      "Results\n",
      "============\n",
      "npmi: -0.1971200557152942\n",
      "diversity: 0.7357142857142858\n",
      " \n"
     ]
    },
    {
     "name": "stderr",
     "output_type": "stream",
     "text": [
      "2023-01-05 16:03:27,437 - BERTopic - Reduced dimensionality with UMAP\n",
      "2023-01-05 16:03:27,488 - BERTopic - Clustered UMAP embeddings with HDBSCAN\n"
     ]
    },
    {
     "name": "stdout",
     "output_type": "stream",
     "text": [
      "Results\n",
      "============\n",
      "npmi: -0.19742272987412068\n",
      "diversity: 0.7\n",
      " \n"
     ]
    },
    {
     "name": "stderr",
     "output_type": "stream",
     "text": [
      "2023-01-05 16:03:30,478 - BERTopic - Reduced dimensionality with UMAP\n",
      "2023-01-05 16:03:30,525 - BERTopic - Clustered UMAP embeddings with HDBSCAN\n"
     ]
    },
    {
     "name": "stdout",
     "output_type": "stream",
     "text": [
      "Results\n",
      "============\n",
      "npmi: -0.22702880351716306\n",
      "diversity: 0.7076923076923077\n",
      " \n"
     ]
    },
    {
     "name": "stderr",
     "output_type": "stream",
     "text": [
      "2023-01-05 16:03:33,316 - BERTopic - Reduced dimensionality with UMAP\n",
      "2023-01-05 16:03:33,362 - BERTopic - Clustered UMAP embeddings with HDBSCAN\n"
     ]
    },
    {
     "name": "stdout",
     "output_type": "stream",
     "text": [
      "Results\n",
      "============\n",
      "npmi: -0.20569708194690567\n",
      "diversity: 0.6818181818181818\n",
      " \n"
     ]
    },
    {
     "name": "stderr",
     "output_type": "stream",
     "text": [
      "2023-01-05 16:03:36,109 - BERTopic - Reduced dimensionality with UMAP\n",
      "2023-01-05 16:03:36,157 - BERTopic - Clustered UMAP embeddings with HDBSCAN\n"
     ]
    },
    {
     "name": "stdout",
     "output_type": "stream",
     "text": [
      "Results\n",
      "============\n",
      "npmi: -0.18815990571125843\n",
      "diversity: 0.7\n",
      " \n"
     ]
    },
    {
     "name": "stderr",
     "output_type": "stream",
     "text": [
      "2023-01-05 16:03:39,288 - BERTopic - Reduced dimensionality with UMAP\n",
      "2023-01-05 16:03:39,334 - BERTopic - Clustered UMAP embeddings with HDBSCAN\n"
     ]
    },
    {
     "name": "stdout",
     "output_type": "stream",
     "text": [
      "Results\n",
      "============\n",
      "npmi: -0.20434065842109148\n",
      "diversity: 0.7083333333333334\n",
      " \n"
     ]
    },
    {
     "name": "stderr",
     "output_type": "stream",
     "text": [
      "2023-01-05 16:03:42,112 - BERTopic - Reduced dimensionality with UMAP\n",
      "2023-01-05 16:03:42,160 - BERTopic - Clustered UMAP embeddings with HDBSCAN\n"
     ]
    },
    {
     "name": "stdout",
     "output_type": "stream",
     "text": [
      "Results\n",
      "============\n",
      "npmi: -0.22228581803027098\n",
      "diversity: 0.7\n",
      " \n"
     ]
    },
    {
     "name": "stderr",
     "output_type": "stream",
     "text": [
      "2023-01-05 16:03:44,849 - BERTopic - Reduced dimensionality with UMAP\n",
      "2023-01-05 16:03:44,896 - BERTopic - Clustered UMAP embeddings with HDBSCAN\n"
     ]
    },
    {
     "name": "stdout",
     "output_type": "stream",
     "text": [
      "Results\n",
      "============\n",
      "npmi: -0.23879242515530566\n",
      "diversity: 0.725\n",
      " \n"
     ]
    },
    {
     "name": "stderr",
     "output_type": "stream",
     "text": [
      "2023-01-05 16:03:47,907 - BERTopic - Reduced dimensionality with UMAP\n",
      "2023-01-05 16:03:47,957 - BERTopic - Clustered UMAP embeddings with HDBSCAN\n"
     ]
    },
    {
     "name": "stdout",
     "output_type": "stream",
     "text": [
      "Results\n",
      "============\n",
      "npmi: -0.2133679475021377\n",
      "diversity: 0.7066666666666667\n",
      " \n"
     ]
    },
    {
     "name": "stderr",
     "output_type": "stream",
     "text": [
      "2023-01-05 16:03:50,743 - BERTopic - Reduced dimensionality with UMAP\n",
      "2023-01-05 16:03:50,788 - BERTopic - Clustered UMAP embeddings with HDBSCAN\n"
     ]
    },
    {
     "name": "stdout",
     "output_type": "stream",
     "text": [
      "Results\n",
      "============\n",
      "npmi: -0.19447327981440132\n",
      "diversity: 0.7230769230769231\n",
      " \n"
     ]
    },
    {
     "name": "stderr",
     "output_type": "stream",
     "text": [
      "2023-01-05 16:03:53,586 - BERTopic - Reduced dimensionality with UMAP\n",
      "2023-01-05 16:03:53,631 - BERTopic - Clustered UMAP embeddings with HDBSCAN\n"
     ]
    },
    {
     "name": "stdout",
     "output_type": "stream",
     "text": [
      "Results\n",
      "============\n",
      "npmi: -0.2228697239250083\n",
      "diversity: 0.76\n",
      " \n"
     ]
    }
   ],
   "source": [
    "from evaluation import Trainer, DataLoader\n",
    "from bertopic import BERTopic\n",
    "\n",
    "for i in range(3):\n",
    "    dataset, custom = \"Teddit\", True\n",
    "    params = {\n",
    "        \"embedding_model\": \"all-MiniLM-L6-v2\",\n",
    "        \"nr_topics\": [(i+1)*10 for i in range(5)],\n",
    "        \"min_topic_size\": 10,\n",
    "        \"diversity\": None,\n",
    "        \"verbose\": True,\n",
    "        \"n_gram_range\":(1,2)\n",
    "    }\n",
    "\n",
    "    trainer = Trainer(dataset=dataset,\n",
    "                        model_name=\"BERTopic\",\n",
    "                        params=params,\n",
    "                        bt_embeddings=embeddings,\n",
    "                        custom_dataset=custom,\n",
    "                        verbose=True,\n",
    "                        custom_model=topic_model)\n",
    "    results = trainer.train(save=f\"../training/Basic/Teddit/BERTopic_{i+1}\")"
   ]
  }
 ],
 "metadata": {
  "kernelspec": {
   "display_name": "venv",
   "language": "python",
   "name": "python3"
  },
  "language_info": {
   "codemirror_mode": {
    "name": "ipython",
    "version": 3
   },
   "file_extension": ".py",
   "mimetype": "text/x-python",
   "name": "python",
   "nbconvert_exporter": "python",
   "pygments_lexer": "ipython3",
   "version": "3.9.2 (tags/v3.9.2:1a79785, Feb 19 2021, 13:44:55) [MSC v.1928 64 bit (AMD64)]"
  },
  "orig_nbformat": 4,
  "vscode": {
   "interpreter": {
    "hash": "1da4d0da791d08c682c2b50a4f29d85cf8e541874d2aeee44b4b1d8944460f85"
   }
  }
 },
 "nbformat": 4,
 "nbformat_minor": 2
}
