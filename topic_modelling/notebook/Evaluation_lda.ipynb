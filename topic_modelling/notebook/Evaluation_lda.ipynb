{
 "cells": [
  {
   "cell_type": "code",
   "execution_count": null,
   "metadata": {},
   "outputs": [],
   "source": [
    "from evaluation import Trainer, DataLoader"
   ]
  },
  {
   "cell_type": "markdown",
   "metadata": {
    "id": "l8s9zjC5A6JD"
   },
   "source": [
    "#### LDA"
   ]
  },
  {
   "cell_type": "code",
   "execution_count": 9,
   "metadata": {
    "id": "uAZ_ckYBeFDY"
   },
   "outputs": [
    {
     "name": "stdout",
     "output_type": "stream",
     "text": [
      "Results\n",
      "============\n",
      "npmi: 0.05271400533616549\n",
      "diversity: 0.74\n",
      " \n",
      "Results\n",
      "============\n",
      "npmi: 0.061435804333994315\n",
      "diversity: 0.755\n",
      " \n",
      "Results\n",
      "============\n",
      "npmi: 0.08264788200552828\n",
      "diversity: 0.77\n",
      " \n",
      "Results\n",
      "============\n",
      "npmi: 0.05392700913546082\n",
      "diversity: 0.7725\n",
      " \n",
      "Results\n",
      "============\n",
      "npmi: 0.05453391021516592\n",
      "diversity: 0.748\n",
      " \n",
      "Results\n",
      "============\n",
      "npmi: 0.05235795881341857\n",
      "diversity: 0.78\n",
      " \n",
      "Results\n",
      "============\n",
      "npmi: 0.06388420457479545\n",
      "diversity: 0.76\n",
      " \n",
      "Results\n",
      "============\n",
      "npmi: 0.0569176457486135\n",
      "diversity: 0.7266666666666667\n",
      " \n",
      "Results\n",
      "============\n",
      "npmi: 0.05780657096458004\n",
      "diversity: 0.7325\n",
      " \n",
      "Results\n",
      "============\n",
      "npmi: 0.03795402101015568\n",
      "diversity: 0.748\n",
      " \n",
      "Results\n",
      "============\n",
      "npmi: 0.04350278550487865\n",
      "diversity: 0.74\n",
      " \n",
      "Results\n",
      "============\n",
      "npmi: 0.06202069196794544\n",
      "diversity: 0.765\n",
      " \n",
      "Results\n",
      "============\n",
      "npmi: 0.07338853862712916\n",
      "diversity: 0.7033333333333334\n",
      " \n",
      "Results\n",
      "============\n",
      "npmi: 0.06545216953866342\n",
      "diversity: 0.73\n",
      " \n",
      "Results\n",
      "============\n",
      "npmi: 0.052568917620013075\n",
      "diversity: 0.762\n",
      " \n"
     ]
    }
   ],
   "source": [
    "dataset, custom = \"20NewsGroup\", False\n",
    "for i, random_state in enumerate([0, 21, 42]):\n",
    "    params = {\"num_topics\": [(i+1)*10 for i in range(5)], \"random_state\": random_state}\n",
    "\n",
    "    trainer = Trainer(dataset=dataset,\n",
    "                      model_name=\"LDA\",\n",
    "                      params=params,\n",
    "                      custom_dataset=custom,\n",
    "                      verbose=True)\n",
    "    results = trainer.train(save=f\"../training/Basic/20NewsGroup/LDA_{i+1}\")"
   ]
  }
 ],
 "metadata": {
  "accelerator": "GPU",
  "colab": {
   "collapsed_sections": [],
   "name": "BERTopic OCTIS v3.ipynb",
   "provenance": [],
   "toc_visible": true
  },
  "kernelspec": {
   "display_name": "venv",
   "language": "python",
   "name": "python3"
  },
  "language_info": {
   "codemirror_mode": {
    "name": "ipython",
    "version": 3
   },
   "file_extension": ".py",
   "mimetype": "text/x-python",
   "name": "python",
   "nbconvert_exporter": "python",
   "pygments_lexer": "ipython3",
   "version": "3.9.2 (tags/v3.9.2:1a79785, Feb 19 2021, 13:44:55) [MSC v.1928 64 bit (AMD64)]"
  },
  "vscode": {
   "interpreter": {
    "hash": "1da4d0da791d08c682c2b50a4f29d85cf8e541874d2aeee44b4b1d8944460f85"
   }
  }
 },
 "nbformat": 4,
 "nbformat_minor": 1
}
